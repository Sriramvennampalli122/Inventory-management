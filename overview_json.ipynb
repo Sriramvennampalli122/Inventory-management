{
 "cells": [
  {
   "cell_type": "code",
   "execution_count": 73,
   "id": "1369d354-26fe-47c2-a9d7-08d3c8dc0862",
   "metadata": {},
   "outputs": [
    {
     "name": "stdout",
     "output_type": "stream",
     "text": [
      "MENU\n",
      "ID:product\n",
      "1001:cricket bat\n",
      "1002:volly ball\n",
      "1003:batmintion racket\n",
      "1004:basket ball\n"
     ]
    },
    {
     "name": "stdin",
     "output_type": "stream",
     "text": [
      "enter the product id 1001\n",
      "enter required quantatity 1\n"
     ]
    },
    {
     "name": "stdout",
     "output_type": "stream",
     "text": [
      "your bill is being generated.............\n"
     ]
    },
    {
     "name": "stdin",
     "output_type": "stream",
     "text": [
      "enter user name vishnu\n",
      "enter your phone number 25478963\n",
      "enter your mail mhknsuiabdsms.com\n",
      "enter y if you have memeber ship n\n"
     ]
    },
    {
     "name": "stdout",
     "output_type": "stream",
     "text": [
      "product: cricket bat\n",
      "cost: 1500\n",
      "total bill: 1500\n"
     ]
    }
   ],
   "source": [
    "from json import *\n",
    "from datetime import *\n",
    "fd=open(\"inv_mng_js.json\",\"r\")\n",
    "js=fd.read()\n",
    "fd.close()\n",
    "inventory=loads(js)\n",
    "print(\"MENU\\nID:product\\n1001:cricket bat\\n1002:volly ball\\n1003:batmintion racket\\n1004:basket ball\")\n",
    "user_id=input(\"enter the product id\")\n",
    "f=0\n",
    "for i in inventory.keys():\n",
    "    if(i==user_id):\n",
    "        user_qty=int(input(\"enter required quantatity\"))\n",
    "        if(user_qty<=inventory[i][\"qty\"]):\n",
    "            print(\"your bill is being generated.............\")\n",
    "            user_name=input(\"enter user name\")\n",
    "            user_num=input(\"enter your phone number\")\n",
    "            user_mail=input(\"enter your mail\")\n",
    "            status=\"succesful\"\n",
    "            user_bill=inventory[i][\"cost\"]*user_qty\n",
    "            res=input(\"enter y if you have memeber ship\")\n",
    "            discount=0\n",
    "            if(res=='y' or res=='Y'):\n",
    "                discount=(user_bill)*0.2\n",
    "                user_bill=user_bill-discount\n",
    "            user_tid=str(datetime.now())\n",
    "            print(\"product:\",inventory[i][\"name\"])\n",
    "            print(\"cost:\",inventory[i][\"cost\"])\n",
    "            print(\"total bill:\",user_bill)\n",
    "            inventory[i][\"qty\"]-=user_qty\n",
    "            ls=user_name+\",\"+user_num+\",\"+user_mail+\",\"+user_id+\",\"+str(user_qty)+\",\"+str(user_bill)+\",\"+str(discount)+\",\"+status+\"\\n\"\n",
    "            dts=open(\"transationdetails_js.csv\",\"a\")\n",
    "            dts.writelines(ls)\n",
    "            dts.close()\n",
    "            f=1\n",
    "        else:\n",
    "            print(\"quantatity not available in inventory\")\n",
    "if(f==0):\n",
    "    print(\"invalid product id\")\n",
    "st=dumps(inventory)\n",
    "fd=open(\"inv_mng_js.json\",\"w\")\n",
    "fd.write(st)\n",
    "fd.close()"
   ]
  }
 ],
 "metadata": {
  "kernelspec": {
   "display_name": "Python 3 (ipykernel)",
   "language": "python",
   "name": "python3"
  },
  "language_info": {
   "codemirror_mode": {
    "name": "ipython",
    "version": 3
   },
   "file_extension": ".py",
   "mimetype": "text/x-python",
   "name": "python",
   "nbconvert_exporter": "python",
   "pygments_lexer": "ipython3",
   "version": "3.12.4"
  }
 },
 "nbformat": 4,
 "nbformat_minor": 5
}
